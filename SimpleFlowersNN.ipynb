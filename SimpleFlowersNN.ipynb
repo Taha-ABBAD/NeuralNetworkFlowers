{
 "cells": [
  {
   "cell_type": "code",
   "execution_count": 7,
   "metadata": {
    "scrolled": true
   },
   "outputs": [],
   "source": [
    "#for showinh the graphe \n",
    "%matplotlib inline\n"
   ]
  },
  {
   "cell_type": "code",
   "execution_count": 8,
   "metadata": {},
   "outputs": [],
   "source": [
    "#importing\n",
    "from matplotlib import pyplot as plt\n",
    "import numpy as np"
   ]
  },
  {
   "cell_type": "code",
   "execution_count": 11,
   "metadata": {},
   "outputs": [],
   "source": [
    "#each flower (length , width , color (b=0,r=1))\n",
    "data = [[3,   1.5, 1],\n",
    "        [2,   1,   0],\n",
    "        [4,   1.5, 1],\n",
    "        [3,   1,   0],\n",
    "        [3.5, .5,  1],\n",
    "        [2,   .5,  0],\n",
    "        [5.5,  1,  1],\n",
    "        [1,    1,  0]]\n",
    "\n",
    "mystery_flower = [4.5, 1]"
   ]
  },
  {
   "cell_type": "code",
   "execution_count": 51,
   "metadata": {},
   "outputs": [
    {
     "data": {
      "image/png": "[encoded data removed]",
      "text/plain": [
       "<Figure size 432x288 with 1 Axes>"
      ]
     },
     "metadata": {
      "needs_background": "light"
     },
     "output_type": "display_data"
    }
   ],
   "source": [
    "#Diagram showing all flowers \n",
    "def Flowers_Diagram():\n",
    "    plt.grid()\n",
    "    \n",
    "    for i in range(len(data)):\n",
    "        color = 'r'\n",
    "        if data[i][2] == 0:\n",
    "            color = 'b'\n",
    "        plt.scatter( data[i][0] , data[i][1] , c=color)\n",
    "    plt.scatter( mystery_flower[0] , mystery_flower[1] , c=\"black\")  \n",
    "    \n",
    "Flowers_Diagram()    \n",
    "    "
   ]
  },
  {
   "cell_type": "code",
   "execution_count": 13,
   "metadata": {},
   "outputs": [],
   "source": [
    "# network\n",
    "\n",
    "#       o  flower type\n",
    "#      / \\  w1, w2, b\n",
    "#     o   o  length, width"
   ]
  },
  {
   "cell_type": "code",
   "execution_count": 14,
   "metadata": {},
   "outputs": [],
   "source": [
    "#sigmood Function\n",
    "\n",
    "def sigmoid(x):\n",
    "    return 1/(1+np.exp(-x))\n",
    "\n",
    "def dsigmoid_dx(x):\n",
    "    return sigmoid(x) * ( 1 - sigmoid(x))"
   ]
  },
  {
   "cell_type": "code",
   "execution_count": 38,
   "metadata": {},
   "outputs": [
    {
     "data": {
      "text/plain": [
       "[<matplotlib.lines.Line2D at 0x1840b20aee0>]"
      ]
     },
     "execution_count": 38,
     "metadata": {},
     "output_type": "execute_result"
    },
    {
     "data": {
      "image/png": "[encoded data removed]",
      "text/plain": [
       "<Figure size 432x288 with 1 Axes>"
      ]
     },
     "metadata": {
      "needs_background": "light"
     },
     "output_type": "display_data"
    }
   ],
   "source": [
    "#Diagram sigmoid && dsigmoid_dx functions\n",
    "\n",
    "X = np.linspace(-5, 5,50)  # [-5 , 5 ] ---> draw 50 point\n",
    "\n",
    "plt.plot(X, sigmoid(X), c=\"b\") # sigmoid in blue\n",
    "plt.plot(X, dsigmoid_dx(X), c=\"r\") # sigmoid_p in red"
   ]
  },
  {
   "cell_type": "code",
   "execution_count": 66,
   "metadata": {},
   "outputs": [
    {
     "data": {
      "image/png": "[encoded data removed]",
      "text/plain": [
       "<Figure size 432x288 with 1 Axes>"
      ]
     },
     "metadata": {
      "needs_background": "light"
     },
     "output_type": "display_data"
    }
   ],
   "source": [
    "#train \n",
    "def train():\n",
    "    #random weights & bias\n",
    "    w1 = np.random.randn() \n",
    "    w2 = np.random.randn() \n",
    "    b  = np.random.randn() \n",
    "    \n",
    "    iterations = 10000\n",
    "    learn_rate = 0.1\n",
    "    costs = []\n",
    "    \n",
    "    for i in range(iterations) :\n",
    "        \n",
    "        #pick a random flower from our data \n",
    "        index = np.random.randint(len(data)) \n",
    "        point = data[index]\n",
    "        target = point[2]\n",
    "        \n",
    "        z = point[0] * w1 + point[1] * w2 + b\n",
    "        pred = sigmoid(z)\n",
    "        \n",
    "        cost = (pred - target) ** 2\n",
    "        \n",
    "        # print the cost avrage over all data points every 100 iters\n",
    "        if i % 100 == 0:                                           #\n",
    "            c = 0                                                  #\n",
    "            for j in range(len(data)):                             #\n",
    "                p = data[j]                                        #\n",
    "                p_pred = sigmoid(w1 * p[0] + w2 * p[1] + b)        #\n",
    "                c = c + (p_pred - p[2]) ** 2                       #\n",
    "            c = c / len(data)                                      #\n",
    "            costs.append(c)                                        #\n",
    "        ############################################################    \n",
    "        \n",
    "        dcost_dpred = 2 * (pred - target)\n",
    "        dpred_dz    = dsigmoid_dx(z) \n",
    "        \n",
    "        dz_dw1      = point[0]\n",
    "        dz_dw2      = point[1]\n",
    "        dz_db       = 1\n",
    "        \n",
    "        dcost_dw1 = dcost_dpred * dpred_dz * dz_dw1 \n",
    "        dcost_dw2 = dcost_dpred * dpred_dz * dz_dw2\n",
    "        dcost_db = dcost_dpred * dpred_dz * dz_db\n",
    "        \n",
    "        w1 = w1 - learn_rate * dcost_dw1\n",
    "        w2 = w2 - learn_rate * dcost_dw2\n",
    "        b  = b  - learn_rate * dcost_db\n",
    "        \n",
    "        \n",
    "    return costs , w1 , w2 , b\n",
    "\n",
    "costs, w1, w2, b = train()\n",
    "\n",
    "fig = plt.plot(costs)"
   ]
  },
  {
   "cell_type": "code",
   "execution_count": 67,
   "metadata": {},
   "outputs": [
    {
     "name": "stdout",
     "output_type": "stream",
     "text": [
      "0.983701287571872\n",
      "close to 0 -> blue, close to 1 -> red\n"
     ]
    }
   ],
   "source": [
    "#answer the qustion : is the mestry flower with length = 4.5 & width = 1 --> blue or red ? \n",
    "\n",
    "z = w1 * mystery_flower[0] + w2 * mystery_flower[1] + b\n",
    "pred = sigmoid(z)\n",
    "\n",
    "print(pred)\n",
    "print(\"close to 0 -> blue, close to 1 -> red\")"
   ]
  },
  {
   "cell_type": "code",
   "execution_count": 70,
   "metadata": {},
   "outputs": [
    {
     "data": {
      "image/png": "[encoded data removed]",
      "text/plain": [
       "<Figure size 432x288 with 1 Axes>"
      ]
     },
     "metadata": {
      "needs_background": "light"
     },
     "output_type": "display_data"
    }
   ],
   "source": [
    "# check out the networks predictions in the x,y plane\n",
    "for x in np.linspace(0, 6, 20):\n",
    "    for y in np.linspace(0, 3, 20):\n",
    "        pred = sigmoid(w1 * x + w2 * y + b)\n",
    "        c = 'b'\n",
    "        if pred > .5:\n",
    "            c = 'r'\n",
    "        plt.scatter([x],[y],c=c)"
   ]
  },
  {
   "cell_type": "code",
   "execution_count": null,
   "metadata": {},
   "outputs": [],
   "source": []
  }
 ],
 "metadata": {
  "kernelspec": {
   "display_name": "Python 3",
   "language": "python",
   "name": "python3"
  },
  "language_info": {
   "codemirror_mode": {
    "name": "ipython",
    "version": 3
   },
   "file_extension": ".py",
   "mimetype": "text/x-python",
   "name": "python",
   "nbconvert_exporter": "python",
   "pygments_lexer": "ipython3",
   "version": "3.8.5"
  }
 },
 "nbformat": 4,
 "nbformat_minor": 4
}
